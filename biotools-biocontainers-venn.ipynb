{
 "cells": [
  {
   "cell_type": "markdown",
   "metadata": {},
   "source": [
    "# overlap study for bioconda and biotools"
   ]
  },
  {
   "cell_type": "markdown",
   "metadata": {},
   "source": [
    "## get list of biotools entries"
   ]
  },
  {
   "cell_type": "code",
   "execution_count": 2,
   "metadata": {},
   "outputs": [
    {
     "name": "stdout",
     "output_type": "stream",
     "text": [
      "Loaded biotools web cache from https://bio.tools/api/tool/\n"
     ]
    }
   ],
   "source": [
    "import requests\n",
    "import json\n",
    "import os.path\n",
    "\n",
    "biootools_list_file_name = 'biotools_list.json'\n",
    "if os.path.isfile(biootools_list_file_name):\n",
    "    with open(biootools_list_file_name) as biotools_list_json_file:    \n",
    "        biotools_list = json.load(biotools_list_json_file)\n",
    "        print('Loaded biotools web cache from https://bio.tools/api/tool/')\n",
    "else:\n",
    "    biotools_list = []\n",
    "    next_biotools_page = '?page=1'\n",
    "    while next_biotools_page is not None:\n",
    "        print('getting page %s' % next_biotools_page)\n",
    "        page = requests.get('https://bio.tools/api/tool/' + next_biotools_page).json()\n",
    "        biotools_list += page['list']\n",
    "        next_biotools_page = page['next']\n",
    "\n",
    "    with open(biootools_list_file_name, 'w') as biotools_list_json_file:\n",
    "        json.dump(biotools_list, biotools_list_json_file)"
   ]
  },
  {
   "cell_type": "markdown",
   "metadata": {},
   "source": [
    "_and get the list of biotools ids for these entries_"
   ]
  },
  {
   "cell_type": "code",
   "execution_count": 8,
   "metadata": {},
   "outputs": [],
   "source": [
    "import pandas\n",
    "biotools_ids = [element['id'] for element in biotools_list]\n",
    "biotools_ids_processed = {}\n",
    "for b in biotools_list:\n",
    "    if 'BioConductor' in b['collectionID']:\n",
    "        biotools_ids_processed['BIOCONDUCTOR-%s' % b['id'].upper()] = b['id']\n",
    "    if 'EMBOSS' in b['collectionID']:\n",
    "        biotools_ids_processed['BIOCONDUCTOR-%s' % b['id'].upper()] = b['id']\n",
    "    else:\n",
    "        biotools_ids_processed[b['id'].upper()] = b['id']\n",
    "biotools_ids = pandas.DataFrame(list(biotools_ids_processed.items()), columns=['common', 'biotools'])\n",
    "biotools_ids = biotools_ids.set_index('common')"
   ]
  },
  {
   "cell_type": "markdown",
   "metadata": {},
   "source": [
    "## get list of bioconda entries"
   ]
  },
  {
   "cell_type": "code",
   "execution_count": 9,
   "metadata": {},
   "outputs": [
    {
     "name": "stdout",
     "output_type": "stream",
     "text": [
      "Loaded bioconda file cache from https://conda.anaconda.org/bioconda/linux-64/repodata.json\n"
     ]
    }
   ],
   "source": [
    "#repodata_url = 'https://conda.anaconda.org/bioconda/linux-64/repodata.json'\n",
    "#repodata = requests.get(repodata_url).json()\n",
    "bioconda_list_file_name = 'bioconda_list.json'\n",
    "if os.path.isfile(bioconda_list_file_name):\n",
    "    with open(bioconda_list_file_name) as bioconda_list_file:    \n",
    "        bioconda_list = json.load(bioconda_list_file)\n",
    "        print('Loaded bioconda file cache from https://conda.anaconda.org/bioconda/linux-64/repodata.json')\n",
    "else:\n",
    "    bioconda_list = requests.get('https://conda.anaconda.org/bioconda/linux-64/repodata.json').json()\n",
    "    with open(bioconda_list_file_name, 'w') as bioconda_list_json_file:\n",
    "        json.dump(bioconda_list, bioconda_list_json_file)"
   ]
  },
  {
   "cell_type": "code",
   "execution_count": 10,
   "metadata": {},
   "outputs": [
    {
     "name": "stdout",
     "output_type": "stream",
     "text": [
      "10902\n"
     ]
    }
   ],
   "source": [
    "print(len(bioconda_list['packages'].items()))"
   ]
  },
  {
   "cell_type": "markdown",
   "metadata": {},
   "source": [
    "_and get the list of bioconda package names_"
   ]
  },
  {
   "cell_type": "code",
   "execution_count": 12,
   "metadata": {},
   "outputs": [
    {
     "name": "stdout",
     "output_type": "stream",
     "text": [
      "                                                                      biotools\n",
      "common                                                                        \n",
      "LIGHTDOCK                                                            LightDock\n",
      "SALMONELLA_CRISPR_TYPING                              Salmonella_CRISPR_typing\n",
      "HADDOCK                                                                haddock\n",
      "SETTER                                                                  setter\n",
      "EDAL_-_ELECTRONIC_DATA_ARCHIVE_LIBRARY  eDAL_-_electronic_data_archive_library\n",
      "ARRAYMAP                                                              arraymap\n",
      "BGEE                                                                      bgee\n",
      "CAMEO                                                                    cameo\n",
      "BUSCO                                                                    busco\n",
      "CLEANEX                                                                cleanex\n",
      "HAMAP                                                                    hamap\n",
      "MELANIE                                                                melanie\n",
      "NEXTPROT                                                              nextprot\n",
      "SELECTOME                                                            selectome\n",
      "UNICARBKB                                                            unicarbkb\n",
      "VIRALZONE                                                            viralzone\n",
      "SWISS-MODEL_WORKSPACE                                    swiss-model_workspace\n",
      "CEGA                                                                      cega\n",
      "CELLOSAURUS                                                        cellosaurus\n",
      "EPD                                                                        epd\n",
      "MIRMAP                                                                  mirmap\n",
      "MIRORTHO                                                              mirortho\n",
      "PACMAN                                                                  pacman\n",
      "PROGENETIX                                                          progenetix\n",
      "PROSITE                                                                prosite\n",
      "SMIRNADB                                                              smirnadb\n",
      "SUGARBIND                                                            sugarbind\n",
      "STRING                                                                  string\n",
      "SWISSADME                                                            swissadme\n",
      "SWISSSIMILARITY                                                swisssimilarity\n",
      "...                                                                        ...\n",
      "DBD2BS                                                                  DBD2BS\n",
      "TREEVIEW                                                              TreeView\n",
      "MIAMEXPRESS                                                        MIAMExpress\n",
      "CLUSTALX                                                              ClustalX\n",
      "WORDCLCYTOSCPLG                                                WordClCytoscPlg\n",
      "ENSEMBL_GENBRWSR                                              Ensembl_GenBrwsr\n",
      "MARTVIEW                                                              MartView\n",
      "MREPS                                                                    mreps\n",
      "CN3D                                                                      Cn3D\n",
      "MEGA                                                                      MEGA\n",
      "CYTOSCAPE_WEB                                                    Cytoscape_Web\n",
      "UCSC_HUMGENBRWSRGW                                          UCSC_HumGenBrwsrGw\n",
      "ISLANDPATH                                                          IslandPath\n",
      "UCSC_CBGENBRWSRGW                                            UCSC_CbGenBrwsrGw\n",
      "CONSEQ                                                                  ConSeq\n",
      "LOGOBAR                                                                LogoBar\n",
      "DEEP                                                                      DEEP\n",
      "PA-SUB                                                                  PA-SUB\n",
      "MINMOTIF_MINER                                                  Minmotif_Miner\n",
      "POLYPHRED                                                            PolyPhred\n",
      "BIND_SOAP                                                            BIND_SOAP\n",
      "UCSC_FUGENBRWSGW                                              UCSC_FuGenBrwsGw\n",
      "EQUILIBRATOR                                                      eQuilibrator\n",
      "DOELAN                                                                  Doelan\n",
      "TRIMAL                                                                  trimAl\n",
      "NMRPROCFLOW                                                        NMRProcFlow\n",
      "METFAMILY                                                            MetFamily\n",
      "SPECI                                                                    SpecI\n",
      "SIAMCAT                                                                SIAMCAT\n",
      "IPATH                                                                    iPATH\n",
      "\n",
      "[7232 rows x 1 columns]\n",
      "                                                                                      bioconda\n",
      "common                                                                                        \n",
      "TAILLINES                                                                       ucsc-taillines\n",
      "BIOCONDUCTOR-TXDB.HSAPIENS.UCSC.HG18.KNOWNGENE  bioconductor-txdb.hsapiens.ucsc.hg18.knowngene\n",
      "PARALLEL                                                             perl-parallel-forkmanager\n",
      "MLGT                                                                                    r-mlgt\n",
      "BIOCONDUCTOR-RAMA                                                            bioconductor-rama\n",
      "PYBEDTOOLS                                                                          pybedtools\n",
      "BIOCONDUCTOR-METACCA                                                      bioconductor-metacca\n",
      "PHYML                                                                                    phyml\n",
      "GEMINI                                                                                  gemini\n",
      "DUDES                                                                                    dudes\n",
      "SANGER                                                                 perl-sanger-cgp-vagrent\n",
      "LEVENSHTEIN                                                                 python-levenshtein\n",
      "BIOCONDUCTOR-SWITCHBOX                                                  bioconductor-switchbox\n",
      "QTIP                                                                                      qtip\n",
      "SVGUI                                                                                  r-svgui\n",
      "BIOCONDUCTOR-MESHDBI                                                      bioconductor-meshdbi\n",
      "QACAGPLIFT                                                                     ucsc-qacagplift\n",
      "COBRA                                                                                    cobra\n",
      "SWEEPFINDER2                                                                      sweepfinder2\n",
      "BIO                                                                             perl-bio-phylo\n",
      "STRINGTIE                                                                            stringtie\n",
      "TEST                                                                     perl-test-class-moose\n",
      "EBISEARCH                                                                            ebisearch\n",
      "HMMLEARN                                                                              hmmlearn\n",
      "IO                                                                  perl-io-uncompress-bunzip2\n",
      "RENAME                                                                                  rename\n",
      "TRANS                                                                         soapdenovo-trans\n",
      "ELLIPSE                                                                              r-ellipse\n",
      "PSLCDNAFILTER                                                               ucsc-pslcdnafilter\n",
      "SOLARIUS                                                                            r-solarius\n",
      "...                                                                                        ...\n",
      "CMPH                                                                                      cmph\n",
      "PBH5TOOLS                                                                            pbh5tools\n",
      "MAWK                                                                                      mawk\n",
      "SNOW                                                                                    r-snow\n",
      "BIOCONDUCTOR-MEDIPS                                                        bioconductor-medips\n",
      "BIOCONDUCTOR-HILBERTVIS                                                bioconductor-hilbertvis\n",
      "NANOPLOT                                                                              nanoplot\n",
      "SIMLORD                                                                                simlord\n",
      "YAMLLINT                                                                              yamllint\n",
      "ZIFA                                                                                      zifa\n",
      "BRANCH                                                                         socksipy-branch\n",
      "PERCOLATOR                                                                          percolator\n",
      "PBBAM                                                                                    pbbam\n",
      "BIOCONDUCTOR-RPA                                                              bioconductor-rpa\n",
      "SIMWALK2                                                                              simwalk2\n",
      "HARDKLOR                                                                              hardklor\n",
      "PSLPAIRS                                                                         ucsc-pslpairs\n",
      "LOCFDR                                                                                r-locfdr\n",
      "CHAINPRENET                                                                   ucsc-chainprenet\n",
      "BIOCONDUCTOR-CGHCALL                                                      bioconductor-cghcall\n",
      "RIBOPLOT                                                                              riboplot\n",
      "RCPPTOML                                                                            r-rcpptoml\n",
      "MARKS                                                                             pytest-marks\n",
      "LAP                                                                                        lap\n",
      "COMPUTE.ES                                                                        r-compute.es\n",
      "CHAINFILTER                                                                   ucsc-chainfilter\n",
      "BIOCONDUCTOR-AIMS                                                            bioconductor-aims\n",
      "BIOCONDUCTOR-ADSPLIT                                                      bioconductor-adsplit\n",
      "NGLVIEW                                                                                nglview\n",
      "TOPHAT                                                                                  tophat\n",
      "\n",
      "[2661 rows x 1 columns]\n"
     ]
    }
   ],
   "source": [
    "#bioconda_ids = [element['name'] for element in bioconda_list]\n",
    "#print(bioconda_ids))\n",
    "bioconda_ids = set([package['name'] for key, package in bioconda_list['packages'].items()])\n",
    "bioconda_ids_processed = {}\n",
    "for bioconda_id in bioconda_ids:\n",
    "    if len(bioconda_id.split('-'))>1 and bioconda_id.split('-')[0]!='bioconductor':\n",
    "        bioconda_ids_processed[bioconda_id.split('-')[1].upper()] = bioconda_id\n",
    "    else:\n",
    "        bioconda_ids_processed[bioconda_id.upper()] = bioconda_id\n",
    "bioconda_ids = pandas.DataFrame(list(bioconda_ids_processed.items()), columns=['common', 'bioconda'])\n",
    "bioconda_ids = bioconda_ids.set_index('common')\n",
    "print(biotools_ids)\n",
    "print(bioconda_ids)"
   ]
  },
  {
   "cell_type": "markdown",
   "metadata": {},
   "source": [
    "this is the intersection of biotools/biocondas entries, based on strict name equality"
   ]
  },
  {
   "cell_type": "code",
   "execution_count": 25,
   "metadata": {},
   "outputs": [
    {
     "name": "stdout",
     "output_type": "stream",
     "text": [
      "681\n"
     ]
    }
   ],
   "source": [
    "bioconda_ids.join(biotools_ids).to_csv('mapping.csv',na_rep='null')\n",
    "bioconda_ids.join(biotools_ids).dropna().to_csv('mapping_matchonly.csv',na_rep='null')\n",
    "\n",
    "intersection_biotools_bioconda = pandas.read_csv('mapping_matchonly.csv')\n",
    "print(len(intersection_biotools_bioconda['common']))"
   ]
  },
  {
   "cell_type": "code",
   "execution_count": 17,
   "metadata": {},
   "outputs": [
    {
     "data": {
      "text/plain": [
       "5997"
      ]
     },
     "execution_count": 17,
     "metadata": {},
     "output_type": "execute_result"
    }
   ],
   "source": [
    "not_in_bioconda =  set([b.upper() for b in biotools_ids['biotools']]) - set([b.upper() for b in bioconda_ids['bioconda']])\n",
    "len(not_in_bioconda)"
   ]
  },
  {
   "cell_type": "code",
   "execution_count": 16,
   "metadata": {},
   "outputs": [
    {
     "data": {
      "text/plain": [
       "2404"
      ]
     },
     "execution_count": 16,
     "metadata": {},
     "output_type": "execute_result"
    }
   ],
   "source": [
    "not_in_biotools = set([b.upper() for b in bioconda_ids['bioconda']]) - set([b.upper() for b in biotools_ids['biotools']])\n",
    "len(not_in_biotools)"
   ]
  },
  {
   "cell_type": "code",
   "execution_count": 20,
   "metadata": {},
   "outputs": [],
   "source": [
    "intersection = len(intersection_biotools_bioconda['common'])"
   ]
  },
  {
   "cell_type": "code",
   "execution_count": 22,
   "metadata": {},
   "outputs": [
    {
     "data": {
      "text/plain": [
       "<matplotlib_venn._common.VennDiagram at 0x7f99d644f5f8>"
      ]
     },
     "execution_count": 22,
     "metadata": {},
     "output_type": "execute_result"
    },
    {
     "data": {
      "image/png": "[encoded data removed]",
      "text/plain": [
       "<matplotlib.figure.Figure at 0x7f99d54683c8>"
      ]
     },
     "metadata": {},
     "output_type": "display_data"
    }
   ],
   "source": [
    "%matplotlib inline\n",
    "from matplotlib_venn import venn2\n",
    "venn2(subsets=(len(biotools_ids), len(bioconda_ids), intersection), set_labels = ('bio.tools', 'bioconda', 'overlap'))\n"
   ]
  },
  {
   "cell_type": "markdown",
   "metadata": {},
   "source": [
    "questions:\n",
    "* non-bioinformatics conda packages (yamllint?)\n",
    "* packages that include a version number in biotools: ggplot2\n"
   ]
  },
  {
   "cell_type": "code",
   "execution_count": 23,
   "metadata": {},
   "outputs": [
    {
     "data": {
      "text/plain": [
       "[{'arch': 'x86_64',\n",
       "  'binstar': {'channel': 'main',\n",
       "   'owner_id': '55f35cc885a76554d7c66613',\n",
       "   'package_id': '562657e9d6f51f0b163323ba'},\n",
       "  'build': '0',\n",
       "  'build_number': 0,\n",
       "  'depends': ['bioconductor-annotationdbi >=1.27.9',\n",
       "   'bioconductor-biobase',\n",
       "   'bioconductor-biocgenerics >=0.15.3',\n",
       "   'bioconductor-biostrings >=2.33.5',\n",
       "   'bioconductor-bsgenome >=1.37.6',\n",
       "   'bioconductor-genomeinfodb >=1.1.3',\n",
       "   'bioconductor-genomicfeatures >=1.19.17',\n",
       "   'bioconductor-genomicranges >=1.19.47',\n",
       "   'bioconductor-iranges >=2.3.25',\n",
       "   'bioconductor-rsamtools >=1.19.52',\n",
       "   'bioconductor-rtracklayer >=1.25.16',\n",
       "   'bioconductor-s4vectors >=0.7.11',\n",
       "   'bioconductor-summarizedexperiment >=0.3.1',\n",
       "   'bioconductor-xvector >=0.5.6',\n",
       "   'bioconductor-zlibbioc',\n",
       "   'r >=2.8.0',\n",
       "   'r-dbi'],\n",
       "  'license': 'Artistic-2.0',\n",
       "  'machine': 'x86_64',\n",
       "  'md5': 'f9182e4d677a705b0cc11125f572e9ad',\n",
       "  'name': 'bioconductor-variantannotation',\n",
       "  'operatingsystem': 'linux',\n",
       "  'platform': 'linux',\n",
       "  'requires': [],\n",
       "  'size': 1983074,\n",
       "  'subdir': 'linux-64',\n",
       "  'target-triplet': 'x86_64-any-linux',\n",
       "  'version': '1.16.3'},\n",
       " {'arch': 'x86_64',\n",
       "  'binstar': {'channel': 'main',\n",
       "   'owner_id': '55f35cc885a76554d7c66613',\n",
       "   'package_id': '562657e9d6f51f0b163323ba'},\n",
       "  'build': 'r3.3.1_0',\n",
       "  'build_number': 0,\n",
       "  'depends': ['bioconductor-annotationdbi >=1.27.9',\n",
       "   'bioconductor-biobase',\n",
       "   'bioconductor-biocgenerics >=0.15.3',\n",
       "   'bioconductor-biostrings >=2.33.5',\n",
       "   'bioconductor-bsgenome >=1.37.6',\n",
       "   'bioconductor-genomeinfodb >=1.7.1',\n",
       "   'bioconductor-genomicfeatures >=1.19.17',\n",
       "   'bioconductor-genomicranges >=1.19.47',\n",
       "   'bioconductor-iranges >=2.3.25',\n",
       "   'bioconductor-rsamtools >=1.23.10',\n",
       "   'bioconductor-rtracklayer >=1.25.16',\n",
       "   'bioconductor-s4vectors >=0.9.47',\n",
       "   'bioconductor-summarizedexperiment >=0.3.1',\n",
       "   'bioconductor-xvector >=0.5.6',\n",
       "   'bioconductor-zlibbioc',\n",
       "   'r 3.3.1*',\n",
       "   'r-dbi'],\n",
       "  'has_prefix': False,\n",
       "  'license': 'Artistic-2.0',\n",
       "  'machine': 'x86_64',\n",
       "  'md5': '0926840187963f318e435f7f8d160df8',\n",
       "  'name': 'bioconductor-variantannotation',\n",
       "  'operatingsystem': 'linux',\n",
       "  'platform': 'linux',\n",
       "  'requires': [],\n",
       "  'size': 2543421,\n",
       "  'subdir': 'linux-64',\n",
       "  'target-triplet': 'x86_64-any-linux',\n",
       "  'version': '1.18.7'},\n",
       " {'arch': 'x86_64',\n",
       "  'binstar': {'channel': 'main',\n",
       "   'owner_id': '55f35cc885a76554d7c66613',\n",
       "   'package_id': '562657e9d6f51f0b163323ba'},\n",
       "  'build': '0',\n",
       "  'build_number': 0,\n",
       "  'depends': ['bioconductor-annotationdbi >=1.27.9',\n",
       "   'bioconductor-biobase',\n",
       "   'bioconductor-biocgenerics >=0.15.3',\n",
       "   'bioconductor-biostrings >=2.33.5',\n",
       "   'bioconductor-bsgenome >=1.37.6',\n",
       "   'bioconductor-genomeinfodb >=1.1.3',\n",
       "   'bioconductor-genomicfeatures >=1.19.17',\n",
       "   'bioconductor-genomicranges >=1.19.47',\n",
       "   'bioconductor-iranges >=2.3.25',\n",
       "   'bioconductor-rsamtools >=1.19.52',\n",
       "   'bioconductor-rtracklayer >=1.25.16',\n",
       "   'bioconductor-s4vectors >=0.7.11',\n",
       "   'bioconductor-summarizedexperiment >=0.3.1',\n",
       "   'bioconductor-xvector >=0.5.6',\n",
       "   'bioconductor-zlibbioc',\n",
       "   'r >=2.8.0',\n",
       "   'r-dbi'],\n",
       "  'license': 'Artistic-2.0',\n",
       "  'machine': 'x86_64',\n",
       "  'md5': '67c4a7911b5068e6e2406846d89f5402',\n",
       "  'name': 'bioconductor-variantannotation',\n",
       "  'operatingsystem': 'linux',\n",
       "  'platform': 'linux',\n",
       "  'requires': [],\n",
       "  'size': 1979666,\n",
       "  'subdir': 'linux-64',\n",
       "  'target-triplet': 'x86_64-any-linux',\n",
       "  'version': '1.16.0'},\n",
       " {'arch': 'x86_64',\n",
       "  'binstar': {'channel': 'main',\n",
       "   'owner_id': '55f35cc885a76554d7c66613',\n",
       "   'package_id': '562657e9d6f51f0b163323ba'},\n",
       "  'build': 'r3.4.1_0',\n",
       "  'build_number': 0,\n",
       "  'depends': ['bioconductor-annotationdbi >=1.27.9',\n",
       "   'bioconductor-biobase',\n",
       "   'bioconductor-biocgenerics >=0.15.3',\n",
       "   'bioconductor-biostrings >=2.33.5',\n",
       "   'bioconductor-bsgenome >=1.37.6',\n",
       "   'bioconductor-genomeinfodb >=1.7.1',\n",
       "   'bioconductor-genomicfeatures >=1.19.17',\n",
       "   'bioconductor-genomicranges >=1.19.47',\n",
       "   'bioconductor-iranges >=2.3.25',\n",
       "   'bioconductor-rsamtools >=1.23.10',\n",
       "   'bioconductor-rtracklayer >=1.25.16',\n",
       "   'bioconductor-s4vectors >=0.9.47',\n",
       "   'bioconductor-summarizedexperiment >=0.3.1',\n",
       "   'bioconductor-xvector >=0.5.6',\n",
       "   'bioconductor-zlibbioc',\n",
       "   'r-base 3.4.1*',\n",
       "   'r-dbi'],\n",
       "  'has_prefix': False,\n",
       "  'license': 'Artistic-2.0',\n",
       "  'machine': 'x86_64',\n",
       "  'md5': '1a75be779ef523732e2a165819a5ecb2',\n",
       "  'name': 'bioconductor-variantannotation',\n",
       "  'operatingsystem': 'linux',\n",
       "  'platform': 'linux',\n",
       "  'requires': [],\n",
       "  'size': 2439208,\n",
       "  'subdir': 'linux-64',\n",
       "  'target-triplet': 'x86_64-any-linux',\n",
       "  'version': '1.20.3'},\n",
       " {'arch': 'x86_64',\n",
       "  'binstar': {'channel': 'main',\n",
       "   'owner_id': '55f35cc885a76554d7c66613',\n",
       "   'package_id': '562657e9d6f51f0b163323ba'},\n",
       "  'build': '0',\n",
       "  'build_number': 0,\n",
       "  'depends': ['bioconductor-annotationdbi >=1.27.9',\n",
       "   'bioconductor-biobase',\n",
       "   'bioconductor-biocgenerics >=0.15.3',\n",
       "   'bioconductor-biostrings >=2.33.5',\n",
       "   'bioconductor-bsgenome >=1.37.6',\n",
       "   'bioconductor-genomeinfodb >=1.1.3',\n",
       "   'bioconductor-genomicfeatures >=1.19.17',\n",
       "   'bioconductor-genomicranges >=1.19.47',\n",
       "   'bioconductor-iranges >=2.3.25',\n",
       "   'bioconductor-rsamtools >=1.19.52',\n",
       "   'bioconductor-rtracklayer >=1.25.16',\n",
       "   'bioconductor-s4vectors >=0.7.11',\n",
       "   'bioconductor-summarizedexperiment >=0.3.1',\n",
       "   'bioconductor-xvector >=0.5.6',\n",
       "   'bioconductor-zlibbioc',\n",
       "   'r >=2.8.0',\n",
       "   'r-dbi'],\n",
       "  'license': 'Artistic-2.0',\n",
       "  'machine': 'x86_64',\n",
       "  'md5': 'aae18d3c7c4e358d380ca3390f75680e',\n",
       "  'name': 'bioconductor-variantannotation',\n",
       "  'operatingsystem': 'linux',\n",
       "  'platform': 'linux',\n",
       "  'requires': [],\n",
       "  'size': 1982400,\n",
       "  'subdir': 'linux-64',\n",
       "  'target-triplet': 'x86_64-any-linux',\n",
       "  'version': '1.16.4'},\n",
       " {'arch': 'x86_64',\n",
       "  'binstar': {'channel': 'main',\n",
       "   'owner_id': '55f35cc885a76554d7c66613',\n",
       "   'package_id': '562657e9d6f51f0b163323ba'},\n",
       "  'build': 'r3.3.2_0',\n",
       "  'build_number': 0,\n",
       "  'depends': ['bioconductor-annotationdbi >=1.27.9',\n",
       "   'bioconductor-biobase',\n",
       "   'bioconductor-biocgenerics >=0.15.3',\n",
       "   'bioconductor-biostrings >=2.33.5',\n",
       "   'bioconductor-bsgenome >=1.37.6',\n",
       "   'bioconductor-genomeinfodb >=1.7.1',\n",
       "   'bioconductor-genomicfeatures >=1.19.17',\n",
       "   'bioconductor-genomicranges >=1.19.47',\n",
       "   'bioconductor-iranges >=2.3.25',\n",
       "   'bioconductor-rsamtools >=1.23.10',\n",
       "   'bioconductor-rtracklayer >=1.25.16',\n",
       "   'bioconductor-s4vectors >=0.9.47',\n",
       "   'bioconductor-summarizedexperiment >=0.3.1',\n",
       "   'bioconductor-xvector >=0.5.6',\n",
       "   'bioconductor-zlibbioc',\n",
       "   'r-base 3.3.2*',\n",
       "   'r-dbi'],\n",
       "  'has_prefix': False,\n",
       "  'license': 'Artistic-2.0',\n",
       "  'machine': 'x86_64',\n",
       "  'md5': '57b392256753a0d525e9167453e7ab22',\n",
       "  'name': 'bioconductor-variantannotation',\n",
       "  'operatingsystem': 'linux',\n",
       "  'platform': 'linux',\n",
       "  'requires': [],\n",
       "  'size': 2387193,\n",
       "  'subdir': 'linux-64',\n",
       "  'target-triplet': 'x86_64-any-linux',\n",
       "  'version': '1.20.3'},\n",
       " {'arch': 'x86_64',\n",
       "  'binstar': {'channel': 'main',\n",
       "   'owner_id': '55f35cc885a76554d7c66613',\n",
       "   'package_id': '562657e9d6f51f0b163323ba'},\n",
       "  'build': 'r3.4.1_0',\n",
       "  'build_number': 0,\n",
       "  'depends': ['bioconductor-annotationdbi >=1.27.9',\n",
       "   'bioconductor-biobase',\n",
       "   'bioconductor-biocgenerics >=0.15.3',\n",
       "   'bioconductor-biostrings >=2.33.5',\n",
       "   'bioconductor-bsgenome >=1.37.6',\n",
       "   'bioconductor-genomeinfodb >=1.11.4',\n",
       "   'bioconductor-genomicfeatures >=1.27.4',\n",
       "   'bioconductor-genomicranges >=1.27.6',\n",
       "   'bioconductor-iranges >=2.3.25',\n",
       "   'bioconductor-rsamtools >=1.23.10',\n",
       "   'bioconductor-rtracklayer >=1.25.16',\n",
       "   'bioconductor-s4vectors >=0.13.13',\n",
       "   'bioconductor-summarizedexperiment >=1.5.3',\n",
       "   'bioconductor-xvector >=0.5.6',\n",
       "   'bioconductor-zlibbioc',\n",
       "   'r-base 3.4.1*',\n",
       "   'r-dbi'],\n",
       "  'has_prefix': False,\n",
       "  'license': 'Artistic-2.0',\n",
       "  'machine': 'x86_64',\n",
       "  'md5': 'e83c7a2ac17be9594e6abc3d0a9fbb58',\n",
       "  'name': 'bioconductor-variantannotation',\n",
       "  'operatingsystem': 'linux',\n",
       "  'platform': 'linux',\n",
       "  'requires': [],\n",
       "  'size': 2541038,\n",
       "  'subdir': 'linux-64',\n",
       "  'target-triplet': 'x86_64-any-linux',\n",
       "  'version': '1.22.3'},\n",
       " {'arch': 'x86_64',\n",
       "  'binstar': {'channel': 'main',\n",
       "   'owner_id': '55f35cc885a76554d7c66613',\n",
       "   'package_id': '562657e9d6f51f0b163323ba'},\n",
       "  'build': 'r3.3.1_0',\n",
       "  'build_number': 0,\n",
       "  'depends': ['bioconductor-annotationdbi >=1.27.9',\n",
       "   'bioconductor-biobase',\n",
       "   'bioconductor-biocgenerics >=0.15.3',\n",
       "   'bioconductor-biostrings >=2.33.5',\n",
       "   'bioconductor-bsgenome >=1.37.6',\n",
       "   'bioconductor-genomeinfodb >=1.7.1',\n",
       "   'bioconductor-genomicfeatures >=1.19.17',\n",
       "   'bioconductor-genomicranges >=1.19.47',\n",
       "   'bioconductor-iranges >=2.3.25',\n",
       "   'bioconductor-rsamtools >=1.23.10',\n",
       "   'bioconductor-rtracklayer >=1.25.16',\n",
       "   'bioconductor-s4vectors >=0.9.47',\n",
       "   'bioconductor-summarizedexperiment >=0.3.1',\n",
       "   'bioconductor-xvector >=0.5.6',\n",
       "   'bioconductor-zlibbioc',\n",
       "   'r 3.3.1*',\n",
       "   'r-dbi'],\n",
       "  'has_prefix': False,\n",
       "  'license': 'Artistic-2.0',\n",
       "  'machine': 'x86_64',\n",
       "  'md5': 'c43c37e78cc910a8e8f04a1f792fcb08',\n",
       "  'name': 'bioconductor-variantannotation',\n",
       "  'operatingsystem': 'linux',\n",
       "  'platform': 'linux',\n",
       "  'requires': [],\n",
       "  'size': 2386659,\n",
       "  'subdir': 'linux-64',\n",
       "  'target-triplet': 'x86_64-any-linux',\n",
       "  'version': '1.20.3'},\n",
       " {'arch': 'x86_64',\n",
       "  'binstar': {'channel': 'main',\n",
       "   'owner_id': '55f35cc885a76554d7c66613',\n",
       "   'package_id': '562657e9d6f51f0b163323ba'},\n",
       "  'build': '0',\n",
       "  'build_number': 0,\n",
       "  'depends': ['bioconductor-annotationdbi >=1.27.9',\n",
       "   'bioconductor-biobase',\n",
       "   'bioconductor-biocgenerics >=0.15.3',\n",
       "   'bioconductor-biostrings >=2.33.5',\n",
       "   'bioconductor-bsgenome >=1.37.6',\n",
       "   'bioconductor-genomeinfodb >=1.1.3',\n",
       "   'bioconductor-genomicfeatures >=1.19.17',\n",
       "   'bioconductor-genomicranges >=1.19.47',\n",
       "   'bioconductor-iranges >=2.3.25',\n",
       "   'bioconductor-rsamtools >=1.19.52',\n",
       "   'bioconductor-rtracklayer >=1.25.16',\n",
       "   'bioconductor-s4vectors >=0.7.11',\n",
       "   'bioconductor-summarizedexperiment >=0.3.1',\n",
       "   'bioconductor-xvector >=0.5.6',\n",
       "   'bioconductor-zlibbioc',\n",
       "   'r >=2.8.0',\n",
       "   'r-dbi'],\n",
       "  'license': 'Artistic-2.0',\n",
       "  'machine': 'x86_64',\n",
       "  'md5': '7e2c7475f6d59cdddbb995aa969b57f3',\n",
       "  'name': 'bioconductor-variantannotation',\n",
       "  'operatingsystem': 'linux',\n",
       "  'platform': 'linux',\n",
       "  'requires': [],\n",
       "  'size': 1980788,\n",
       "  'subdir': 'linux-64',\n",
       "  'target-triplet': 'x86_64-any-linux',\n",
       "  'version': '1.16.1'}]"
      ]
     },
     "execution_count": 23,
     "metadata": {},
     "output_type": "execute_result"
    }
   ],
   "source": [
    "[package for key, package in bioconda_list['packages'].items() if package['name']=='bioconductor-variantannotation']"
   ]
  },
  {
   "cell_type": "code",
   "execution_count": 24,
   "metadata": {},
   "outputs": [
    {
     "data": {
      "text/plain": [
       "253"
      ]
     },
     "execution_count": 24,
     "metadata": {},
     "output_type": "execute_result"
    }
   ],
   "source": [
    "len([element for element in biotools_list if 'EMBOSS' in element['collectionID']])"
   ]
  }
 ],
 "metadata": {
  "kernelspec": {
   "display_name": "Python 3",
   "language": "python",
   "name": "python3"
  },
  "language_info": {
   "codemirror_mode": {
    "name": "ipython",
    "version": 3
   },
   "file_extension": ".py",
   "mimetype": "text/x-python",
   "name": "python",
   "nbconvert_exporter": "python",
   "pygments_lexer": "ipython3",
   "version": "3.6.2"
  }
 },
 "nbformat": 4,
 "nbformat_minor": 2
}
